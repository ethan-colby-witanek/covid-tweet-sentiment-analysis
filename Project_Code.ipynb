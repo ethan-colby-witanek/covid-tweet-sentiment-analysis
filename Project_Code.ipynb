{
  "cells": [
    {
      "cell_type": "markdown",
      "source": [
        "For the following code, everything is explained in the comments throughout, which is why I have not included a README file."
      ],
      "metadata": {
        "id": "YMhk-2F1XY8H"
      }
    },
    {
      "cell_type": "code",
      "execution_count": null,
      "metadata": {
        "id": "4QId7iaWaDje"
      },
      "outputs": [],
      "source": [
        "# Import required libraries\n",
        "import numpy as np\n",
        "import pandas as pd\n",
        "import tensorflow as tf\n",
        "import matplotlib.pyplot as plt\n",
        "from tensorflow.keras.preprocessing.text import Tokenizer\n",
        "from tensorflow.keras.preprocessing.sequence import pad_sequences\n"
      ]
    },
    {
      "cell_type": "code",
      "execution_count": null,
      "metadata": {
        "colab": {
          "base_uri": "https://localhost:8080/"
        },
        "id": "E-YRKZ0ufVPr",
        "outputId": "8a754903-1355-48e7-a9c8-d65f6c6ef41e"
      },
      "outputs": [
        {
          "output_type": "stream",
          "name": "stdout",
          "text": [
            "Training set: 37041\n",
            "Validation set: 4116\n",
            "Testing set: 3798\n"
          ]
        }
      ],
      "source": [
        "# The dataset is accessible here:\n",
        "# https://www.kaggle.com/datasets/datatattle/covid-19-nlp-text-classification\n",
        "\n",
        "# The website hosting the dataset required a login\n",
        "# to access the files, so I instead uploaded the files\n",
        "# to my own Google Drive and accessed them here.\n",
        "# When running this code yourself, set 'path_train' to be the path to the \n",
        "# training .csv file, and set 'path_test' to be the path to the\n",
        "# testing .csv file.\n",
        "path_train = '/content/drive/MyDrive/Classes/3. Junior/Spring 2022/Data Mining/Final Project/Project Resources/Corona_NLP_train.csv'\n",
        "path_test = '/content/drive/MyDrive/Classes/3. Junior/Spring 2022/Data Mining/Final Project/Project Resources/Corona_NLP_test.csv'\n",
        "\n",
        "# Read the CSV files from the paths specified above. I ignore encoding errors\n",
        "# here because some symbols weren't rendering properly.\n",
        "train_df = pd.read_csv(path_train, encoding=\"latin1\")\n",
        "test_df = pd.read_csv(path_test, encoding=\"latin1\")\n",
        "\n",
        "# Create a validation dataset and drop those values from the training set\n",
        "valid_df = train_df.sample(frac=0.1, random_state=1)\n",
        "train_df=train_df.drop(valid_df.index)\n",
        "\n",
        "# Re-index the dataframes after removing values\n",
        "valid_df.index=range(len(valid_df))\n",
        "train_df.index=range(len(train_df))\n",
        "\n",
        "# Check the sizes of the training/validation/testing sets\n",
        "print(\"Training set: \" + str(len(train_df)))\n",
        "print(\"Validation set: \" + str(len(valid_df)))\n",
        "print(\"Testing set: \" + str(len(test_df)))\n",
        "\n",
        "# This method creates separate dataframes with just indices and tweets/labels\n",
        "def get_tweets(data):\n",
        "  tweets = data['OriginalTweet']\n",
        "  labels = data['Sentiment']\n",
        "  return tweets, labels\n",
        "\n",
        "train_tweets, train_labels = get_tweets(train_df)\n",
        "\n",
        "# Initializes a tokenizer and calibrates it to training data\n",
        "# Tokenization is the process of splitting sentences into tokens,\n",
        "# as well as getting rid of unimportant characters, e.g. punctuation.\n",
        "# This specific tokenizer will assign each word a number by how \n",
        "# commonly they appear in the dataset of Tweets.\n",
        "tokenizer = Tokenizer(num_words = 10000, oov_token='<UNK>')\n",
        "tokenizer.fit_on_texts(train_tweets)\n",
        "\n",
        "# Make all sequences the same shape\n",
        "# maxlen gets the length of the longest tweet so every other tweet can be\n",
        "# padded until they are all the same length\n",
        "maxlen = max([len(x.split()) for x in train_tweets])\n",
        "def get_sequences(tokenizer, tweets):\n",
        "  sequences = tokenizer.texts_to_sequences(tweets)\n",
        "  padded = pad_sequences(sequences, truncating = 'post', padding = 'post',\n",
        "                         maxlen=maxlen)\n",
        "  return padded\n",
        "\n",
        "# padded_train_seq now contains a 64-length array of each Tweet in the training\n",
        "# dataset, starting with the tokenized values of the tweet and padded with 0s\n",
        "padded_train_seq = get_sequences(tokenizer, train_tweets)\n",
        "\n",
        "# Creates a set of training labels, and a dictionary for converting classes\n",
        "# to indices and vice versa. This is useful when converting values returned by\n",
        "# the model into something easier to understand later.\n",
        "classes = ['Extremely Negative', 'Negative', 'Neutral', 'Positive', 'Extremely Positive']\n",
        "class_to_index = dict((c,i) for i, c in enumerate(classes))\n",
        "index_to_class = dict((v,k) for k, v in class_to_index.items())\n",
        "\n",
        "# This function converts labels in the training data to their respective indices\n",
        "names_to_ids = lambda train_labels: np.array([class_to_index.get(x) for x in train_labels])\n",
        "labels = names_to_ids(train_labels)\n",
        "\n",
        "# With all of the preprocessing done, it's time to work on the model itself"
      ]
    },
    {
      "cell_type": "code",
      "execution_count": null,
      "metadata": {
        "colab": {
          "base_uri": "https://localhost:8080/",
          "height": 508
        },
        "id": "VcFCByqFlf55",
        "outputId": "32e319a5-279a-4cc9-8dc6-bf0965e7033b"
      },
      "outputs": [
        {
          "output_type": "stream",
          "name": "stdout",
          "text": [
            "Epoch 1/20\n",
            "1158/1158 [==============================] - 106s 82ms/step - loss: 1.1798 - accuracy: 0.4987 - val_loss: 0.8665 - val_accuracy: 0.6757\n",
            "Epoch 2/20\n",
            "1158/1158 [==============================] - 93s 81ms/step - loss: 0.6870 - accuracy: 0.7549 - val_loss: 0.7455 - val_accuracy: 0.7303\n",
            "Epoch 3/20\n",
            "1158/1158 [==============================] - 93s 80ms/step - loss: 0.5525 - accuracy: 0.8143 - val_loss: 0.7024 - val_accuracy: 0.7500\n",
            "Epoch 4/20\n",
            "1158/1158 [==============================] - 93s 80ms/step - loss: 0.4847 - accuracy: 0.8414 - val_loss: 0.7228 - val_accuracy: 0.7512\n",
            "Epoch 5/20\n",
            "1158/1158 [==============================] - 93s 81ms/step - loss: 0.4302 - accuracy: 0.8615 - val_loss: 0.7176 - val_accuracy: 0.7592\n",
            "Epoch 6/20\n",
            "1158/1158 [==============================] - 92s 80ms/step - loss: 0.3782 - accuracy: 0.8796 - val_loss: 0.7571 - val_accuracy: 0.7539\n",
            "Epoch 7/20\n",
            "1158/1158 [==============================] - 93s 80ms/step - loss: 0.3363 - accuracy: 0.8933 - val_loss: 0.7736 - val_accuracy: 0.7549\n"
          ]
        },
        {
          "output_type": "display_data",
          "data": {
            "text/plain": [
              "<Figure size 432x288 with 1 Axes>"
            ],
            "image/png": "[encoded data removed]"
          },
          "metadata": {
            "needs_background": "light"
          }
        }
      ],
      "source": [
        "# Create a Sequential model that uses Embedding, Bidirectional, and Dense layers\n",
        "# Each of these layers will be explained in more deail in the paper\n",
        "model = tf.keras.models.Sequential([\n",
        "        tf.keras.layers.Embedding(10000, 16, input_length=maxlen),\n",
        "        tf.keras.layers.Bidirectional(tf.keras.layers.LSTM(\n",
        "                                      20, return_sequences=True)),\n",
        "        tf.keras.layers.Bidirectional(tf.keras.layers.LSTM(20)),\n",
        "        tf.keras.layers.Dense(6, activation='softmax')\n",
        "])\n",
        "\n",
        "# Compiles the model; these choices will be explained in the paper\n",
        "model.compile(\n",
        "    loss='sparse_categorical_crossentropy',\n",
        "    optimizer='adam',\n",
        "    metrics='accuracy'\n",
        ")\n",
        "\n",
        "# Performs the same preprocessing steps as earlier on the validation dataset\n",
        "# in order to allow validation steps to take place\n",
        "val_tweets, val_labels = get_tweets(valid_df)\n",
        "val_seq = get_sequences(tokenizer, val_tweets)\n",
        "val_labels = names_to_ids(val_labels)\n",
        "\n",
        "# Train the model and evaluate it with training and validation accuracy\n",
        "hist = model.fit(\n",
        "    padded_train_seq, labels,\n",
        "    validation_data=(val_seq, val_labels),\n",
        "    epochs = 20,\n",
        "    callbacks = [tf.keras.callbacks.EarlyStopping(monitor='val_accuracy',\n",
        "                                                  patience=2)]\n",
        ")\n",
        "plt.plot(hist.history['accuracy'], label='accuracy')\n",
        "plt.plot(hist.history['val_accuracy'], label='validation accuracy')\n",
        "plt.legend(loc='upper left')\n",
        "plt.show()"
      ]
    },
    {
      "cell_type": "code",
      "execution_count": null,
      "metadata": {
        "colab": {
          "base_uri": "https://localhost:8080/",
          "height": 473
        },
        "id": "0oMBGqxwv3WD",
        "outputId": "73bc1640-3fe0-4cb8-fbe4-d37893c8c5e3"
      },
      "outputs": [
        {
          "output_type": "stream",
          "name": "stdout",
          "text": [
            "Epoch 1/20\n",
            "1158/1158 [==============================] - 104s 83ms/step - loss: 1.3550 - accuracy: 0.4144 - val_loss: 0.9459 - val_accuracy: 0.6365\n",
            "Epoch 2/20\n",
            "1158/1158 [==============================] - 94s 81ms/step - loss: 0.8168 - accuracy: 0.7068 - val_loss: 0.7730 - val_accuracy: 0.7106\n",
            "Epoch 3/20\n",
            "1158/1158 [==============================] - 95s 82ms/step - loss: 0.6379 - accuracy: 0.7909 - val_loss: 0.7648 - val_accuracy: 0.7381\n",
            "Epoch 4/20\n",
            "1158/1158 [==============================] - 94s 81ms/step - loss: 0.5503 - accuracy: 0.8282 - val_loss: 0.6978 - val_accuracy: 0.7604\n",
            "Epoch 5/20\n",
            "1158/1158 [==============================] - 94s 81ms/step - loss: 0.4934 - accuracy: 0.8509 - val_loss: 0.7456 - val_accuracy: 0.7524\n",
            "Epoch 6/20\n",
            "1158/1158 [==============================] - 94s 82ms/step - loss: 0.4440 - accuracy: 0.8683 - val_loss: 0.7461 - val_accuracy: 0.7590\n"
          ]
        },
        {
          "output_type": "display_data",
          "data": {
            "text/plain": [
              "<Figure size 432x288 with 1 Axes>"
            ],
            "image/png": "[encoded data removed]"
          },
          "metadata": {
            "needs_background": "light"
          }
        }
      ],
      "source": [
        "# The previous model is prone to overfitting, so I'm going to see if applying\n",
        "# dropout regularization helps the performance of the validation step\n",
        "model = tf.keras.models.Sequential([\n",
        "        tf.keras.layers.Embedding(10000, 16, input_length=maxlen),\n",
        "        tf.keras.layers.Bidirectional(tf.keras.layers.LSTM(\n",
        "                                      20, return_sequences=True)),\n",
        "        tf.keras.layers.Dropout(.5),\n",
        "        tf.keras.layers.Bidirectional(tf.keras.layers.LSTM(20)),\n",
        "        tf.keras.layers.Dropout(.5),\n",
        "        tf.keras.layers.Dense(6, activation='softmax')\n",
        "])\n",
        "\n",
        "model.compile(\n",
        "    loss='sparse_categorical_crossentropy',\n",
        "    optimizer='adam',\n",
        "    metrics='accuracy'\n",
        ")\n",
        "\n",
        "hist = model.fit(\n",
        "    padded_train_seq, labels,\n",
        "    validation_data=(val_seq, val_labels),\n",
        "    epochs = 20,\n",
        "    callbacks = [tf.keras.callbacks.EarlyStopping(monitor='val_accuracy',\n",
        "                                                  patience=2)]\n",
        ")\n",
        "plt.plot(hist.history['accuracy'], label='accuracy')\n",
        "plt.plot(hist.history['val_accuracy'], label='validation accuracy')\n",
        "plt.legend(loc='upper left')\n",
        "plt.show()"
      ]
    },
    {
      "cell_type": "code",
      "execution_count": null,
      "metadata": {
        "colab": {
          "base_uri": "https://localhost:8080/",
          "height": 508
        },
        "id": "zJnkD5DK4Hqc",
        "outputId": "82e192a2-8128-4cc5-ffb6-ffb03afe49c0"
      },
      "outputs": [
        {
          "output_type": "stream",
          "name": "stdout",
          "text": [
            "Epoch 1/20\n",
            "1158/1158 [==============================] - 103s 83ms/step - loss: 1.3257 - accuracy: 0.4245 - val_loss: 0.9998 - val_accuracy: 0.6016\n",
            "Epoch 2/20\n",
            "1158/1158 [==============================] - 94s 81ms/step - loss: 0.7566 - accuracy: 0.7237 - val_loss: 0.7338 - val_accuracy: 0.7417\n",
            "Epoch 3/20\n",
            "1158/1158 [==============================] - 94s 81ms/step - loss: 0.5653 - accuracy: 0.8084 - val_loss: 0.7047 - val_accuracy: 0.7563\n",
            "Epoch 4/20\n",
            "1158/1158 [==============================] - 93s 80ms/step - loss: 0.4860 - accuracy: 0.8441 - val_loss: 0.7059 - val_accuracy: 0.7602\n",
            "Epoch 5/20\n",
            "1158/1158 [==============================] - 94s 81ms/step - loss: 0.4351 - accuracy: 0.8636 - val_loss: 0.7221 - val_accuracy: 0.7634\n",
            "Epoch 6/20\n",
            "1158/1158 [==============================] - 94s 81ms/step - loss: 0.3875 - accuracy: 0.8807 - val_loss: 0.7102 - val_accuracy: 0.7583\n",
            "Epoch 7/20\n",
            "1158/1158 [==============================] - 93s 81ms/step - loss: 0.3400 - accuracy: 0.8954 - val_loss: 0.7483 - val_accuracy: 0.7583\n"
          ]
        },
        {
          "output_type": "display_data",
          "data": {
            "text/plain": [
              "<Figure size 432x288 with 1 Axes>"
            ],
            "image/png": "[encoded data removed]"
          },
          "metadata": {
            "needs_background": "light"
          }
        }
      ],
      "source": [
        "# I noticed that for previous tests the enumerations made no sense: before, they\n",
        "# were as follows:\n",
        "# 0 - Extremely Negative\n",
        "# 1 - Extremely Positive\n",
        "# 2 - Negative\n",
        "# 3 - Neutral\n",
        "# 4 - Positive\n",
        "# For this attempt, I made changes as follows:\n",
        "# 0 - Extremely Negative\n",
        "# 1 - Negative\n",
        "# 2 - Neutral\n",
        "# 3 - Positive\n",
        "# 4 - Extremely Positive\n",
        "# This way similar judgements would have a more sensible loss value - before,\n",
        "# guessing an \"extremely negative\" text as \"extremely positive\" would only\n",
        "# result in a loss of 1, while \"positive\" and \"extremely positive\" would result\n",
        "# in a loss of 3.\n",
        "\n",
        "# Create a Sequential model that uses Embedding, Bidirectional, and Dense layers\n",
        "# Each of these layers will be explained in more deail in the paper\n",
        "model = tf.keras.models.Sequential([\n",
        "        tf.keras.layers.Embedding(10000, 16, input_length=maxlen),\n",
        "        tf.keras.layers.Bidirectional(tf.keras.layers.LSTM(\n",
        "                                      20, return_sequences=True)),\n",
        "        tf.keras.layers.Bidirectional(tf.keras.layers.LSTM(20)),\n",
        "        tf.keras.layers.Dense(6, activation='softmax')\n",
        "])\n",
        "\n",
        "# Compiles the model; these choices will be explained in the paper\n",
        "model.compile(\n",
        "    loss='sparse_categorical_crossentropy',\n",
        "    optimizer='adam',\n",
        "    metrics='accuracy'\n",
        ")\n",
        "\n",
        "# Performs the same preprocessing steps as earlier on the validation dataset\n",
        "# in order to allow validation steps to take place\n",
        "val_tweets, val_labels = get_tweets(valid_df)\n",
        "val_seq = get_sequences(tokenizer, val_tweets)\n",
        "val_labels = names_to_ids(val_labels)\n",
        "\n",
        "# Train the model and evaluate it with training and validation accuracy\n",
        "hist = model.fit(\n",
        "    padded_train_seq, labels,\n",
        "    validation_data=(val_seq, val_labels),\n",
        "    epochs = 20,\n",
        "    callbacks = [tf.keras.callbacks.EarlyStopping(monitor='val_accuracy',\n",
        "                                                  patience=2)]\n",
        ")\n",
        "plt.plot(hist.history['accuracy'], label='accuracy')\n",
        "plt.plot(hist.history['val_accuracy'], label='validation accuracy')\n",
        "plt.legend(loc='upper left')\n",
        "plt.show()"
      ]
    },
    {
      "cell_type": "code",
      "execution_count": null,
      "metadata": {
        "colab": {
          "base_uri": "https://localhost:8080/",
          "height": 959
        },
        "id": "xglbXrVW4WMi",
        "outputId": "2ba0bf4e-2863-4acc-b307-90bdac533f68"
      },
      "outputs": [
        {
          "output_type": "stream",
          "name": "stdout",
          "text": [
            "Epoch 1/20\n",
            "1158/1158 [==============================] - 106s 85ms/step - loss: 1.4790 - accuracy: 0.3307 - val_loss: 1.2962 - val_accuracy: 0.4487\n",
            "Epoch 2/20\n",
            "1158/1158 [==============================] - 96s 83ms/step - loss: 1.1427 - accuracy: 0.5303 - val_loss: 0.9095 - val_accuracy: 0.6531\n",
            "Epoch 3/20\n",
            "1158/1158 [==============================] - 95s 82ms/step - loss: 0.9139 - accuracy: 0.6500 - val_loss: 0.7819 - val_accuracy: 0.7080\n",
            "Epoch 4/20\n",
            "1158/1158 [==============================] - 95s 82ms/step - loss: 0.8062 - accuracy: 0.7015 - val_loss: 0.7337 - val_accuracy: 0.7381\n",
            "Epoch 5/20\n",
            "1158/1158 [==============================] - 96s 83ms/step - loss: 0.7396 - accuracy: 0.7335 - val_loss: 0.7167 - val_accuracy: 0.7512\n",
            "Epoch 6/20\n",
            "1158/1158 [==============================] - 95s 82ms/step - loss: 0.7089 - accuracy: 0.7466 - val_loss: 0.6892 - val_accuracy: 0.7563\n",
            "Epoch 7/20\n",
            "1158/1158 [==============================] - 95s 82ms/step - loss: 0.6745 - accuracy: 0.7624 - val_loss: 0.6964 - val_accuracy: 0.7451\n",
            "Epoch 8/20\n",
            "1158/1158 [==============================] - 95s 82ms/step - loss: 0.6471 - accuracy: 0.7725 - val_loss: 0.6793 - val_accuracy: 0.7646\n",
            "Epoch 9/20\n",
            "1158/1158 [==============================] - 95s 82ms/step - loss: 0.6330 - accuracy: 0.7810 - val_loss: 0.6620 - val_accuracy: 0.7741\n",
            "Epoch 10/20\n",
            "1158/1158 [==============================] - 95s 82ms/step - loss: 0.6131 - accuracy: 0.7866 - val_loss: 0.6616 - val_accuracy: 0.7741\n",
            "Epoch 11/20\n",
            "1158/1158 [==============================] - 95s 82ms/step - loss: 0.5964 - accuracy: 0.7960 - val_loss: 0.6682 - val_accuracy: 0.7782\n",
            "Epoch 12/20\n",
            "1158/1158 [==============================] - 95s 82ms/step - loss: 0.5825 - accuracy: 0.7990 - val_loss: 0.6486 - val_accuracy: 0.7794\n",
            "Epoch 13/20\n",
            "1158/1158 [==============================] - 95s 82ms/step - loss: 0.5699 - accuracy: 0.8053 - val_loss: 0.6507 - val_accuracy: 0.7806\n",
            "Epoch 14/20\n",
            "1158/1158 [==============================] - 96s 83ms/step - loss: 0.5533 - accuracy: 0.8120 - val_loss: 0.6473 - val_accuracy: 0.7777\n",
            "Epoch 15/20\n",
            "1158/1158 [==============================] - 95s 82ms/step - loss: 0.5418 - accuracy: 0.8149 - val_loss: 0.6566 - val_accuracy: 0.7770\n",
            "Epoch 16/20\n",
            "1158/1158 [==============================] - 93s 80ms/step - loss: 0.5305 - accuracy: 0.8204 - val_loss: 0.6425 - val_accuracy: 0.7833\n",
            "Epoch 17/20\n",
            "1158/1158 [==============================] - 94s 82ms/step - loss: 0.5121 - accuracy: 0.8260 - val_loss: 0.6479 - val_accuracy: 0.7869\n",
            "Epoch 18/20\n",
            "1158/1158 [==============================] - 97s 84ms/step - loss: 0.5036 - accuracy: 0.8292 - val_loss: 0.6255 - val_accuracy: 0.7898\n",
            "Epoch 19/20\n",
            "1158/1158 [==============================] - 96s 83ms/step - loss: 0.4951 - accuracy: 0.8296 - val_loss: 0.6385 - val_accuracy: 0.7879\n",
            "Epoch 20/20\n",
            "1158/1158 [==============================] - 96s 83ms/step - loss: 0.4872 - accuracy: 0.8333 - val_loss: 0.6546 - val_accuracy: 0.7906\n"
          ]
        },
        {
          "output_type": "display_data",
          "data": {
            "text/plain": [
              "<Figure size 432x288 with 1 Axes>"
            ],
            "image/png": "[encoded data removed]"
          },
          "metadata": {
            "needs_background": "light"
          }
        }
      ],
      "source": [
        "# Here, I'm combining the past two solutions in an attempt to find better results.\n",
        "# I disabled the early stopping because I noticed sometimes the val_accuracy\n",
        "# would improve over the course of multiple epochs.\n",
        "model = tf.keras.models.Sequential([\n",
        "        tf.keras.layers.Embedding(10000, 16, input_length=maxlen),\n",
        "        tf.keras.layers.Dropout(.5),\n",
        "        tf.keras.layers.Bidirectional(tf.keras.layers.LSTM(\n",
        "                                      20, return_sequences=True)),\n",
        "        tf.keras.layers.Dropout(.5),\n",
        "        tf.keras.layers.Bidirectional(tf.keras.layers.LSTM(20)),\n",
        "        tf.keras.layers.Dropout(.5),\n",
        "        tf.keras.layers.Dense(6, activation='softmax')\n",
        "])\n",
        "\n",
        "model.compile(\n",
        "    loss='sparse_categorical_crossentropy',\n",
        "    optimizer='adam',\n",
        "    metrics='accuracy'\n",
        ")\n",
        "\n",
        "hist = model.fit(\n",
        "    padded_train_seq, labels,\n",
        "    validation_data=(val_seq, val_labels),\n",
        "    epochs = 20,\n",
        "#    callbacks = [tf.keras.callbacks.EarlyStopping(monitor='val_accuracy',\n",
        "#                                                  patience=2)]\n",
        ")\n",
        "plt.plot(hist.history['accuracy'], label='accuracy')\n",
        "plt.plot(hist.history['val_accuracy'], label='validation accuracy')\n",
        "plt.legend(loc='upper left')\n",
        "plt.show()"
      ]
    },
    {
      "cell_type": "code",
      "execution_count": null,
      "metadata": {
        "id": "cJl18kDqKxUd",
        "colab": {
          "base_uri": "https://localhost:8080/",
          "height": 577
        },
        "outputId": "ec5ab3dc-d9d7-46c0-9d7f-935cdb408fba"
      },
      "outputs": [
        {
          "output_type": "stream",
          "name": "stdout",
          "text": [
            "Epoch 1/20\n",
            "1158/1158 [==============================] - 107s 86ms/step - loss: 1.3809 - accuracy: 0.3908 - val_loss: 0.9908 - val_accuracy: 0.6118\n",
            "Epoch 2/20\n",
            "1158/1158 [==============================] - 98s 85ms/step - loss: 0.9640 - accuracy: 0.6262 - val_loss: 0.8077 - val_accuracy: 0.7187\n",
            "Epoch 3/20\n",
            "1158/1158 [==============================] - 97s 84ms/step - loss: 0.8176 - accuracy: 0.6978 - val_loss: 0.7165 - val_accuracy: 0.7502\n",
            "Epoch 4/20\n",
            "1158/1158 [==============================] - 98s 84ms/step - loss: 0.7528 - accuracy: 0.7288 - val_loss: 0.6572 - val_accuracy: 0.7741\n",
            "Epoch 5/20\n",
            "1158/1158 [==============================] - 97s 84ms/step - loss: 0.7072 - accuracy: 0.7490 - val_loss: 0.6449 - val_accuracy: 0.7801\n",
            "Epoch 6/20\n",
            "1158/1158 [==============================] - 97s 84ms/step - loss: 0.6742 - accuracy: 0.7632 - val_loss: 0.6289 - val_accuracy: 0.7891\n",
            "Epoch 7/20\n",
            "1158/1158 [==============================] - 97s 84ms/step - loss: 0.6475 - accuracy: 0.7709 - val_loss: 0.6229 - val_accuracy: 0.7920\n",
            "Epoch 8/20\n",
            "1158/1158 [==============================] - 97s 84ms/step - loss: 0.6346 - accuracy: 0.7798 - val_loss: 0.6101 - val_accuracy: 0.7874\n",
            "Epoch 9/20\n",
            "1158/1158 [==============================] - 97s 84ms/step - loss: 0.6208 - accuracy: 0.7834 - val_loss: 0.6114 - val_accuracy: 0.7908\n"
          ]
        },
        {
          "output_type": "display_data",
          "data": {
            "text/plain": [
              "<Figure size 432x288 with 1 Axes>"
            ],
            "image/png": "[encoded data removed]"
          },
          "metadata": {
            "needs_background": "light"
          }
        }
      ],
      "source": [
        "# Disabling the early stopping led to some promising results, albeit at a slow\n",
        "# pace. For this attempt, I increased the learning rate of the optimizer.\n",
        "model = tf.keras.models.Sequential([\n",
        "        tf.keras.layers.Embedding(10000, 16, input_length=maxlen),\n",
        "        tf.keras.layers.Dropout(.5),\n",
        "        tf.keras.layers.Bidirectional(tf.keras.layers.LSTM(\n",
        "                                      20, return_sequences=True)),\n",
        "        tf.keras.layers.Dropout(.5),\n",
        "        tf.keras.layers.Bidirectional(tf.keras.layers.LSTM(20)),\n",
        "        tf.keras.layers.Dropout(.5),\n",
        "        tf.keras.layers.Dense(6, activation='softmax')\n",
        "])\n",
        "\n",
        "model.compile(\n",
        "    loss='sparse_categorical_crossentropy',\n",
        "    optimizer=tf.keras.optimizers.Adam(\n",
        "        learning_rate=0.01\n",
        "    ),\n",
        "    metrics='accuracy'\n",
        ")\n",
        "\n",
        "hist = model.fit(\n",
        "    padded_train_seq, labels,\n",
        "    validation_data=(val_seq, val_labels),\n",
        "    epochs = 20,\n",
        "    callbacks = [tf.keras.callbacks.EarlyStopping(monitor='val_accuracy',\n",
        "                                                  patience=2,\n",
        "                                                  restore_best_weights=True)]\n",
        ")\n",
        "plt.plot(hist.history['accuracy'], label='accuracy')\n",
        "plt.plot(hist.history['val_accuracy'], label='validation accuracy')\n",
        "plt.legend(loc='upper left')\n",
        "plt.show()"
      ]
    },
    {
      "cell_type": "code",
      "execution_count": null,
      "metadata": {
        "id": "r6RBdJ8O1YLe",
        "colab": {
          "base_uri": "https://localhost:8080/"
        },
        "outputId": "6a1ae99b-84af-4eb1-e4ca-4bd6339adc06"
      },
      "outputs": [
        {
          "output_type": "stream",
          "name": "stdout",
          "text": [
            "119/119 [==============================] - 2s 18ms/step - loss: 0.6493 - accuracy: 0.7699\n"
          ]
        },
        {
          "output_type": "execute_result",
          "data": {
            "text/plain": [
              "[0.6493099927902222, 0.7698788642883301]"
            ]
          },
          "metadata": {},
          "execution_count": 9
        }
      ],
      "source": [
        "# With the model resulting in a validation accuracy of over 80%, it's time to\n",
        "# test the performance of the model on the testing set.\n",
        "\n",
        "test_tweets, test_labels = get_tweets(test_df)\n",
        "test_seq = get_sequences(tokenizer, test_tweets)\n",
        "test_labels = names_to_ids(test_labels)\n",
        "model.evaluate(test_seq, test_labels)"
      ]
    }
  ],
  "metadata": {
    "colab": {
      "provenance": []
    },
    "kernelspec": {
      "display_name": "Python 3",
      "name": "python3"
    },
    "language_info": {
      "name": "python"
    }
  },
  "nbformat": 4,
  "nbformat_minor": 0
}